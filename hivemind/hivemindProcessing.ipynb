{
 "cells": [
  {
   "cell_type": "code",
   "execution_count": 54,
   "id": "54a50467-60ce-4c0e-ab9f-fd2ea3ccbd4b",
   "metadata": {},
   "outputs": [],
   "source": [
    "import pandas as pd\n",
    "\n",
    "rawRiley = pd.read_csv('hivemindPowerRanks - Riley.csv')\n",
    "rawGraydon = pd.read_csv('hivemindPowerRanks - Graydon.csv')"
   ]
  },
  {
   "cell_type": "markdown",
   "id": "1d828a9b-baa8-4df2-9970-faf534dcb1b4",
   "metadata": {},
   "source": [
    "This data tracks the weekly top 10 power rankings made by two people over the course of the 2024 NFL season. Since not every team is ranked every week, non-values will be filled with a league average rank of 16. Teams that were never ranked top 10 will be found and removed from a cleaned version of the data."
   ]
  },
  {
   "cell_type": "code",
   "execution_count": 56,
   "id": "6b498c4d-9bf7-45d3-bfcb-55f82c8b3c04",
   "metadata": {
    "scrolled": true
   },
   "outputs": [],
   "source": [
    "dfRiley = rawRiley.fillna(16)\n",
    "dfGraydon = rawGraydon.fillna(16)"
   ]
  },
  {
   "cell_type": "code",
   "execution_count": 57,
   "id": "05edbbe7-212a-4127-850d-fe01e072da81",
   "metadata": {},
   "outputs": [
    {
     "name": "stdout",
     "output_type": "stream",
     "text": [
      "Riley's unranked teams: ['CAR', 'CHI', 'CIN', 'CLE', 'JAX', 'LV', 'MIA', 'NE', 'NYG', 'NYJ', 'TEN']\n",
      "Graydon's unranked teams: ['ARI', 'CAR', 'CHI', 'CIN', 'JAX', 'LV', 'NE', 'NYG', 'TEN']\n"
     ]
    }
   ],
   "source": [
    "unrankedTeamsR = []\n",
    "unrankedTeamsG = []\n",
    "\n",
    "for team, ranks in dfRiley.items():\n",
    "    avg = ranks.mean()\n",
    "    if avg == 16.0:\n",
    "        unrankedTeamsR.append(team)\n",
    "\n",
    "for team, ranks in dfGraydon.items():\n",
    "    avg = ranks.mean()\n",
    "    if avg == 16.0:\n",
    "        unrankedTeamsG.append(team)\n",
    "\n",
    "print(\"Riley's unranked teams: \" + str(unrankedTeamsR))\n",
    "print(\"Graydon's unranked teams: \" + str(unrankedTeamsG))"
   ]
  },
  {
   "cell_type": "code",
   "execution_count": 58,
   "id": "b57844d5-c9e4-486b-a509-4565e3017d08",
   "metadata": {},
   "outputs": [],
   "source": [
    "rileyUnrankedRemoved = dfRiley.copy()\n",
    "graydonUnrankedRemoved = dfGraydon.copy()\n",
    "\n",
    "for t in unrankedTeamsR:\n",
    "    rileyUnrankedRemoved = rileyUnrankedRemoved.drop([t], axis=1)\n",
    "for t in unrankedTeamsG:\n",
    "    graydonUnrankedRemoved = graydonUnrankedRemoved.drop([t], axis=1)\n",
    "\n",
    "rileyUnrankedRemoved.to_csv('rileysRanks.csv', index=False)\n",
    "graydonUnrankedRemoved.to_csv('graydonsRanks.csv', index=False)"
   ]
  }
 ],
 "metadata": {
  "kernelspec": {
   "display_name": "Python 3 (ipykernel)",
   "language": "python",
   "name": "python3"
  },
  "language_info": {
   "codemirror_mode": {
    "name": "ipython",
    "version": 3
   },
   "file_extension": ".py",
   "mimetype": "text/x-python",
   "name": "python",
   "nbconvert_exporter": "python",
   "pygments_lexer": "ipython3",
   "version": "3.11.7"
  }
 },
 "nbformat": 4,
 "nbformat_minor": 5
}

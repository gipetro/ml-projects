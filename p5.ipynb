{
  "nbformat": 4,
  "nbformat_minor": 0,
  "metadata": {
    "colab": {
      "provenance": []
    },
    "kernelspec": {
      "name": "python3",
      "display_name": "Python 3"
    },
    "language_info": {
      "name": "python"
    }
  },
  "cells": [
    {
      "cell_type": "code",
      "metadata": {
        "id": "vbR4-TNH_fHb",
        "colab": {
          "base_uri": "https://localhost:8080/"
        },
        "outputId": "19654b58-55e0-4539-f879-61c014223ebb"
      },
      "source": [
        "import numpy as np\n",
        "import pandas as pd\n",
        "import random\n",
        "from sklearn.model_selection import train_test_split\n",
        "from sklearn.linear_model import LinearRegression\n",
        "from sklearn.ensemble import RandomForestRegressor\n",
        "from sklearn.metrics import mean_absolute_error\n",
        "from sklearn.metrics import mean_squared_error\n",
        "import matplotlib.pyplot as plt\n",
        "\n",
        "admis = pd.read_csv('Admission_Predict_Ver1.1.csv')\n",
        "admis = admis.drop('Serial No.', axis = 1)\n",
        "X = admis.drop('Chance of Admit ', axis = 1)\n",
        "y = admis['Chance of Admit ']\n",
        "X_train, X_val, y_train, y_val = train_test_split(X, y, random_state = 92)\n",
        "\n",
        "#Linear Regression model\n",
        "lr = LinearRegression()\n",
        "lr.fit(X_train, y_train)\n",
        "lr_mae_error = mean_absolute_error(y_val, lr.predict(X_val))\n",
        "lr_mse_error = mean_squared_error(y_val, lr.predict(X_val))\n",
        "\n",
        "#Random Forest model\n",
        "rf = RandomForestRegressor(random_state = 1217)\n",
        "rf.fit(X_train, y_train)\n",
        "rf_mae_error = mean_absolute_error(y_val, rf.predict(X_val))\n",
        "rf_mse_error = mean_squared_error(y_val, rf.predict(X_val))\n",
        "\n",
        "print('Mean absolute error for Linear Regression model:', lr_mae_error)\n",
        "print('Mean absolute error for Random Forest model:', rf_mae_error)\n",
        "\n",
        "print('\\nMean squared error for Linear Regression model:', lr_mse_error)\n",
        "print('Mean squared error for Random Forest model:', rf_mse_error)"
      ],
      "execution_count": null,
      "outputs": [
        {
          "output_type": "stream",
          "text": [
            "Mean absolute error for Linear Regression model: 0.04379753791802148\n",
            "Mean absolute error for Random Forest model: 0.04766880000000002\n",
            "\n",
            "Mean squared error for Linear Regression model: 0.003671095924254557\n",
            "Mean squared error for Random Forest model: 0.004263644159999999\n"
          ],
          "name": "stdout"
        }
      ]
    },
    {
      "cell_type": "markdown",
      "metadata": {
        "id": "ugkiK5sOKyPb"
      },
      "source": [
        "From the two models, we see from the mean squared and absolute errors that the linear regression is outperforming the random forest model.\n",
        "With this being the case, it is likely that there is a linear trend in a realtion between at least one of the data points and the admission chance."
      ]
    }
  ]
}
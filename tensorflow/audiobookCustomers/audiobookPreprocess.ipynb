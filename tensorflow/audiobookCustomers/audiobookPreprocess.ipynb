{
 "cells": [
  {
   "cell_type": "code",
   "execution_count": 2,
   "id": "af6862f1-91f7-42c5-84b1-5f5e50d71f86",
   "metadata": {},
   "outputs": [],
   "source": [
    "import numpy as np\n",
    "from sklearn import preprocessing\n",
    "import tensorflow as tf"
   ]
  },
  {
   "cell_type": "code",
   "execution_count": 3,
   "id": "0c6e07d2-c740-4311-9196-f71e21fa9350",
   "metadata": {},
   "outputs": [],
   "source": [
    "#load\n",
    "rawData = np.loadtxt('Audiobooks_data.csv', delimiter = ',')\n",
    "\n",
    "unscaledInputs = rawData[:,1:-1]\n",
    "targets = rawData[:,-1]"
   ]
  },
  {
   "cell_type": "code",
   "execution_count": 4,
   "id": "9dc05fea-5271-4177-9395-e1d519261cb9",
   "metadata": {},
   "outputs": [],
   "source": [
    "#shuffle\n",
    "\n",
    "shuffledIndices = np.arange(unscaledInputs.shape[0])\n",
    "np.random.shuffle(shuffledIndices)\n",
    "\n",
    "shuffledInputs = unscaledInputs[shuffledIndices]\n",
    "shuffledTargets = targets[shuffledIndices]"
   ]
  },
  {
   "cell_type": "code",
   "execution_count": 5,
   "id": "fa8fabd7-8f60-480c-8287-82514e6cc251",
   "metadata": {},
   "outputs": [],
   "source": [
    "#balance\n",
    "\n",
    "numOneTargets = int(np.sum(shuffledTargets))\n",
    "zeroTargetsCount = 0\n",
    "indicesToRemove = []\n",
    "\n",
    "for i in range(shuffledTargets.shape[0]):\n",
    "    if shuffledTargets[i] == 0:\n",
    "        zeroTargetsCount += 1\n",
    "        if zeroTargetsCount > numOneTargets:\n",
    "            indicesToRemove.append(i)\n",
    "\n",
    "unscaledInputsEqualPriors = np.delete(shuffledInputs, indicesToRemove, axis = 0)\n",
    "targetsEqualPriors = np.delete(shuffledTargets, indicesToRemove, axis = 0)"
   ]
  },
  {
   "cell_type": "code",
   "execution_count": 6,
   "id": "cedb3872-4486-41db-9059-62a9b9e9271c",
   "metadata": {},
   "outputs": [],
   "source": [
    "#standardize\n",
    "scaledInputs = preprocessing.scale(unscaledInputsEqualPriors)"
   ]
  },
  {
   "cell_type": "code",
   "execution_count": 7,
   "id": "45fd990c-d567-4f67-abf6-220b9583cb4f",
   "metadata": {},
   "outputs": [],
   "source": [
    "#reshuffle\n",
    "shuffledIndices = np.arange(scaledInputs.shape[0])\n",
    "np.random.shuffle(shuffledIndices)\n",
    "\n",
    "reshuffledInputs = scaledInputs[shuffledIndices]\n",
    "reshuffledTargets = targetsEqualPriors[shuffledIndices]"
   ]
  },
  {
   "cell_type": "code",
   "execution_count": 8,
   "id": "ead9ff32-2b00-4c83-af81-0a3e7a9eac21",
   "metadata": {},
   "outputs": [],
   "source": [
    "#split data\n",
    "samplesCount = reshuffledInputs.shape[0]\n",
    "\n",
    "trainSamplesCount = int(0.8 * samplesCount)\n",
    "validationSamplesCount = int(0.1 * samplesCount)\n",
    "testSamplesCount = samplesCount - trainSamplesCount - validationSamplesCount\n",
    "\n",
    "trainInputs = reshuffledInputs[:trainSamplesCount]\n",
    "trainTargets = reshuffledTargets[:trainSamplesCount]\n",
    "\n",
    "validationInputs = reshuffledInputs[trainSamplesCount:trainSamplesCount+validationSamplesCount]\n",
    "validationTargets = reshuffledTargets[trainSamplesCount:trainSamplesCount+validationSamplesCount]\n",
    "\n",
    "testInputs = reshuffledInputs[trainSamplesCount+validationSamplesCount:]\n",
    "testTargets = reshuffledTargets[trainSamplesCount+validationSamplesCount:]"
   ]
  },
  {
   "cell_type": "code",
   "execution_count": 9,
   "id": "eeabea4b-8007-416c-8b2c-e7e4a79b763e",
   "metadata": {},
   "outputs": [
    {
     "name": "stdout",
     "output_type": "stream",
     "text": [
      "1758.0 3579 0.4911986588432523\n",
      "232.0 447 0.5190156599552572\n",
      "247.0 448 0.5513392857142857\n"
     ]
    }
   ],
   "source": [
    "print(np.sum(trainTargets), trainSamplesCount, np.sum(trainTargets) / trainSamplesCount)\n",
    "print(np.sum(validationTargets), validationSamplesCount, np.sum(validationTargets) / validationSamplesCount)\n",
    "print(np.sum(testTargets), testSamplesCount, np.sum(testTargets) / testSamplesCount)"
   ]
  },
  {
   "cell_type": "code",
   "execution_count": 10,
   "id": "b2a58492-2f64-43a6-bc4e-b32e3da2c66e",
   "metadata": {},
   "outputs": [],
   "source": [
    "np.savez('audiobooksDataTrain', inputs = trainInputs, targets = trainTargets)\n",
    "np.savez('audiobooksDataValidation', inputs = validationInputs, targets = validationTargets)\n",
    "np.savez('audiobooksDataTest', inputs = testInputs, targets = testTargets)"
   ]
  }
 ],
 "metadata": {
  "kernelspec": {
   "display_name": "Python 3 (ipykernel)",
   "language": "python",
   "name": "python3"
  },
  "language_info": {
   "codemirror_mode": {
    "name": "ipython",
    "version": 3
   },
   "file_extension": ".py",
   "mimetype": "text/x-python",
   "name": "python",
   "nbconvert_exporter": "python",
   "pygments_lexer": "ipython3",
   "version": "3.8.20"
  }
 },
 "nbformat": 4,
 "nbformat_minor": 5
}

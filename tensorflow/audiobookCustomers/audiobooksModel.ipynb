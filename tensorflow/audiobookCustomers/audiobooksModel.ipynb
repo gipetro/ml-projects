{
 "cells": [
  {
   "cell_type": "code",
   "execution_count": 1,
   "id": "062458fc-cdb1-44f5-9753-54c5044df4dc",
   "metadata": {},
   "outputs": [],
   "source": [
    "import numpy as np\n",
    "import tensorflow as tf"
   ]
  },
  {
   "cell_type": "code",
   "execution_count": 2,
   "id": "c3c73325-3467-4772-ada0-799bfcd3404d",
   "metadata": {},
   "outputs": [],
   "source": [
    "#load npz data\n",
    "\n",
    "npz = np.load('audiobooksDataTrain.npz')\n",
    "trainInputs = npz['inputs'].astype(float)\n",
    "trainTargets = npz['targets'].astype(int)\n",
    "\n",
    "npz = np.load('audiobooksDataValidation.npz')\n",
    "validationInputs, validationTargets = npz['inputs'].astype(float), npz['targets'].astype(int)\n",
    "\n",
    "npz = np.load('audiobooksDataTest.npz')\n",
    "testInputs, testTargets = npz['inputs'].astype(float), npz['targets'].astype(int)"
   ]
  },
  {
   "cell_type": "code",
   "execution_count": 31,
   "id": "80225a50-42f6-4e89-a706-751cf1da4b61",
   "metadata": {},
   "outputs": [
    {
     "name": "stdout",
     "output_type": "stream",
     "text": [
      "Epoch 1/100\n",
      "36/36 - 1s - loss: 0.4353 - accuracy: 0.7687 - val_loss: 0.3918 - val_accuracy: 0.7673\n",
      "Epoch 2/100\n",
      "36/36 - 0s - loss: 0.3717 - accuracy: 0.8039 - val_loss: 0.3734 - val_accuracy: 0.7942\n",
      "Epoch 3/100\n",
      "36/36 - 0s - loss: 0.3628 - accuracy: 0.8108 - val_loss: 0.3685 - val_accuracy: 0.8009\n",
      "Epoch 4/100\n",
      "36/36 - 0s - loss: 0.3564 - accuracy: 0.8100 - val_loss: 0.3753 - val_accuracy: 0.8054\n",
      "Epoch 5/100\n",
      "36/36 - 0s - loss: 0.3553 - accuracy: 0.8111 - val_loss: 0.3488 - val_accuracy: 0.8322\n",
      "Epoch 6/100\n",
      "36/36 - 0s - loss: 0.3512 - accuracy: 0.8136 - val_loss: 0.3448 - val_accuracy: 0.8121\n",
      "Epoch 7/100\n",
      "36/36 - 0s - loss: 0.3461 - accuracy: 0.8131 - val_loss: 0.3588 - val_accuracy: 0.8054\n",
      "Epoch 8/100\n",
      "36/36 - 0s - loss: 0.3405 - accuracy: 0.8161 - val_loss: 0.3327 - val_accuracy: 0.8143\n",
      "Epoch 9/100\n",
      "36/36 - 0s - loss: 0.3495 - accuracy: 0.8075 - val_loss: 0.3405 - val_accuracy: 0.8098\n",
      "Epoch 10/100\n",
      "36/36 - 0s - loss: 0.3418 - accuracy: 0.8142 - val_loss: 0.3493 - val_accuracy: 0.8054\n"
     ]
    },
    {
     "data": {
      "text/plain": [
       "<tensorflow.python.keras.callbacks.History at 0x25168745280>"
      ]
     },
     "execution_count": 31,
     "metadata": {},
     "output_type": "execute_result"
    }
   ],
   "source": [
    "#create and fit model\n",
    "\n",
    "input_size = 10\n",
    "output_size = 2\n",
    "hidden_layer_size = 200\n",
    "\n",
    "early_stopping = tf.keras.callbacks.EarlyStopping(patience=2)\n",
    "\n",
    "model = tf.keras.Sequential([\n",
    "    tf.keras.layers.Dense(hidden_layer_size, activation='tanh'),\n",
    "    tf.keras.layers.Dense(hidden_layer_size, activation='relu'),\n",
    "    tf.keras.layers.Dense(hidden_layer_size, activation='relu'),\n",
    "    tf.keras.layers.Dense(hidden_layer_size, activation='relu'),\n",
    "    tf.keras.layers.Dense(hidden_layer_size, activation='relu'),\n",
    "    tf.keras.layers.Dense(output_size, activation='softmax')\n",
    "])\n",
    "\n",
    "model.compile(optimizer='adam', loss='sparse_categorical_crossentropy', metrics=['accuracy'])\n",
    "\n",
    "batchSize = 100\n",
    "maxEpochs = 100\n",
    "model.fit(trainInputs,\n",
    "          trainTargets,\n",
    "          batch_size = batchSize,\n",
    "          epochs = maxEpochs,\n",
    "          callbacks = [early_stopping],\n",
    "          validation_data = (validationInputs, validationTargets),\n",
    "          verbose = 2)"
   ]
  },
  {
   "cell_type": "code",
   "execution_count": 32,
   "id": "08708483-3104-474d-b526-e0d4ed2a8b8c",
   "metadata": {},
   "outputs": [
    {
     "name": "stdout",
     "output_type": "stream",
     "text": [
      "14/14 [==============================] - 0s 5ms/step - loss: 0.3630 - accuracy: 0.7924\n"
     ]
    }
   ],
   "source": [
    "#test model\n",
    "test_loss, test_accuracy = model.evaluate(testInputs, testTargets)"
   ]
  }
 ],
 "metadata": {
  "kernelspec": {
   "display_name": "Python 3 (ipykernel)",
   "language": "python",
   "name": "python3"
  },
  "language_info": {
   "codemirror_mode": {
    "name": "ipython",
    "version": 3
   },
   "file_extension": ".py",
   "mimetype": "text/x-python",
   "name": "python",
   "nbconvert_exporter": "python",
   "pygments_lexer": "ipython3",
   "version": "3.8.20"
  }
 },
 "nbformat": 4,
 "nbformat_minor": 5
}

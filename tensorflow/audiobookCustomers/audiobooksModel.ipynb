{
 "cells": [
  {
   "cell_type": "code",
   "execution_count": 10,
   "id": "062458fc-cdb1-44f5-9753-54c5044df4dc",
   "metadata": {},
   "outputs": [],
   "source": [
    "import numpy as np\n",
    "import tensorflow as tf"
   ]
  },
  {
   "cell_type": "code",
   "execution_count": 11,
   "id": "c3c73325-3467-4772-ada0-799bfcd3404d",
   "metadata": {},
   "outputs": [],
   "source": [
    "#load npz data\n",
    "\n",
    "npz = np.load('audiobooksDataTrain.npz')\n",
    "trainInputs = npz['inputs'].astype(float)\n",
    "trainTargets = npz['targets'].astype(int)\n",
    "\n",
    "npz = np.load('audiobooksDataValidation.npz')\n",
    "validationInputs, validationTargets = npz['inputs'].astype(float), npz['targets'].astype(int)\n",
    "\n",
    "npz = np.load('audiobooksDataTest.npz')\n",
    "testInputs, testTargets = npz['inputs'].astype(float), npz['targets'].astype(int)"
   ]
  },
  {
   "cell_type": "code",
   "execution_count": 19,
   "id": "80225a50-42f6-4e89-a706-751cf1da4b61",
   "metadata": {},
   "outputs": [
    {
     "name": "stdout",
     "output_type": "stream",
     "text": [
      "Epoch 1/100\n",
      "36/36 - 0s - loss: 0.6476 - accuracy: 0.6351 - val_loss: 0.5384 - val_accuracy: 0.7271\n",
      "Epoch 2/100\n",
      "36/36 - 0s - loss: 0.5047 - accuracy: 0.7469 - val_loss: 0.4550 - val_accuracy: 0.7740\n",
      "Epoch 3/100\n",
      "36/36 - 0s - loss: 0.4418 - accuracy: 0.7709 - val_loss: 0.4171 - val_accuracy: 0.7785\n",
      "Epoch 4/100\n",
      "36/36 - 0s - loss: 0.4090 - accuracy: 0.7913 - val_loss: 0.3905 - val_accuracy: 0.8054\n",
      "Epoch 5/100\n",
      "36/36 - 0s - loss: 0.3910 - accuracy: 0.8013 - val_loss: 0.3867 - val_accuracy: 0.7919\n",
      "Epoch 6/100\n",
      "36/36 - 0s - loss: 0.3795 - accuracy: 0.8078 - val_loss: 0.3703 - val_accuracy: 0.8076\n",
      "Epoch 7/100\n",
      "36/36 - 0s - loss: 0.3730 - accuracy: 0.8055 - val_loss: 0.3632 - val_accuracy: 0.8098\n",
      "Epoch 8/100\n",
      "36/36 - 0s - loss: 0.3656 - accuracy: 0.8097 - val_loss: 0.3576 - val_accuracy: 0.8166\n",
      "Epoch 9/100\n",
      "36/36 - 0s - loss: 0.3613 - accuracy: 0.8148 - val_loss: 0.3542 - val_accuracy: 0.8166\n",
      "Epoch 10/100\n",
      "36/36 - 0s - loss: 0.3624 - accuracy: 0.8036 - val_loss: 0.3682 - val_accuracy: 0.8054\n",
      "Epoch 11/100\n",
      "36/36 - 0s - loss: 0.3582 - accuracy: 0.8136 - val_loss: 0.3491 - val_accuracy: 0.8143\n",
      "Epoch 12/100\n",
      "36/36 - 0s - loss: 0.3548 - accuracy: 0.8167 - val_loss: 0.3526 - val_accuracy: 0.7987\n",
      "Epoch 13/100\n",
      "36/36 - 0s - loss: 0.3497 - accuracy: 0.8167 - val_loss: 0.3472 - val_accuracy: 0.8098\n",
      "Epoch 14/100\n",
      "36/36 - 0s - loss: 0.3489 - accuracy: 0.8187 - val_loss: 0.3449 - val_accuracy: 0.8054\n",
      "Epoch 15/100\n",
      "36/36 - 0s - loss: 0.3488 - accuracy: 0.8195 - val_loss: 0.3511 - val_accuracy: 0.8121\n",
      "Epoch 16/100\n",
      "36/36 - 0s - loss: 0.3460 - accuracy: 0.8187 - val_loss: 0.3460 - val_accuracy: 0.8233\n"
     ]
    },
    {
     "data": {
      "text/plain": [
       "<tensorflow.python.keras.callbacks.History at 0x19623f4ec10>"
      ]
     },
     "execution_count": 19,
     "metadata": {},
     "output_type": "execute_result"
    }
   ],
   "source": [
    "#create and fit model\n",
    "\n",
    "input_size = 10\n",
    "output_size = 2\n",
    "hidden_layer_size = 50\n",
    "\n",
    "early_stopping = tf.keras.callbacks.EarlyStopping(patience=2)\n",
    "\n",
    "model = tf.keras.Sequential([\n",
    "    tf.keras.layers.Dense(hidden_layer_size, activation='relu'),\n",
    "    tf.keras.layers.Dense(hidden_layer_size, activation='relu'),\n",
    "    tf.keras.layers.Dense(output_size, activation='softmax')\n",
    "])\n",
    "\n",
    "model.compile(optimizer='adam', loss='sparse_categorical_crossentropy', metrics=['accuracy'])\n",
    "\n",
    "batchSize = 100\n",
    "maxEpochs = 100\n",
    "model.fit(trainInputs,\n",
    "          trainTargets,\n",
    "          batch_size = batchSize,\n",
    "          epochs = maxEpochs,\n",
    "          callbacks = [early_stopping],\n",
    "          validation_data = (validationInputs, validationTargets),\n",
    "          verbose = 2)"
   ]
  },
  {
   "cell_type": "code",
   "execution_count": 20,
   "id": "08708483-3104-474d-b526-e0d4ed2a8b8c",
   "metadata": {},
   "outputs": [
    {
     "name": "stdout",
     "output_type": "stream",
     "text": [
      "14/14 [==============================] - 0s 2ms/step - loss: 0.4910 - accuracy: 0.7812\n"
     ]
    }
   ],
   "source": [
    "#test model\n",
    "test_loss, test_accuracy = model.evaluate(testInputs, testTargets)"
   ]
  }
 ],
 "metadata": {
  "kernelspec": {
   "display_name": "Python 3 (ipykernel)",
   "language": "python",
   "name": "python3"
  },
  "language_info": {
   "codemirror_mode": {
    "name": "ipython",
    "version": 3
   },
   "file_extension": ".py",
   "mimetype": "text/x-python",
   "name": "python",
   "nbconvert_exporter": "python",
   "pygments_lexer": "ipython3",
   "version": "3.8.20"
  }
 },
 "nbformat": 4,
 "nbformat_minor": 5
}

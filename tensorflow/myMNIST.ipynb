{
 "cells": [
  {
   "cell_type": "code",
   "execution_count": 1,
   "id": "520007df-6a57-40dd-a525-0d8b019a77f1",
   "metadata": {},
   "outputs": [],
   "source": [
    "#import libraries\n",
    "\n",
    "import numpy as np\n",
    "import tensorflow as tf"
   ]
  },
  {
   "cell_type": "code",
   "execution_count": 2,
   "id": "5a57ee9a-c7e8-4a7a-ac31-f7e17b2658bc",
   "metadata": {},
   "outputs": [
    {
     "data": {
      "text/plain": [
       "'2.3.0'"
      ]
     },
     "execution_count": 2,
     "metadata": {},
     "output_type": "execute_result"
    }
   ],
   "source": [
    "tf.__version__"
   ]
  },
  {
   "cell_type": "code",
   "execution_count": 13,
   "id": "924921bb-95cf-47ce-82d9-857db3229176",
   "metadata": {},
   "outputs": [],
   "source": [
    "#loading data\n",
    "\n",
    "from tensorflow.keras.datasets import mnist\n",
    "(X_train, Y_train), (X_test, Y_test) = mnist.load_data()\n",
    "raw_train = tf.data.Dataset.from_tensor_slices((X_train, Y_train))\n",
    "raw_test = tf.data.Dataset.from_tensor_slices((X_test, Y_test))"
   ]
  },
  {
   "cell_type": "code",
   "execution_count": 93,
   "id": "f9f582bc-ddf4-40af-bf5f-f5f06bb0eacf",
   "metadata": {},
   "outputs": [],
   "source": [
    "#scale, shuffle, and batch data\n",
    "\n",
    "num_validation_samples = 0.1 * len(raw_train)\n",
    "num_validation_samples = tf.cast(num_validation_samples, tf.int64)\n",
    "\n",
    "num_test_samples = len(raw_test)\n",
    "num_test_samples = tf.cast(num_test_samples, tf.int64)\n",
    "\n",
    "def scale(image, label):\n",
    "    image = tf.cast(image, tf.float32)\n",
    "    image /= 255.\n",
    "    return image, label\n",
    "\n",
    "scaled_train_and_validation_data = raw_train.map(scale)\n",
    "scaled_test_data = raw_test.map(scale)\n",
    "\n",
    "BUFFER_SIZE = 10000\n",
    "\n",
    "shuffled_train_and_validation_data = scaled_train_and_validation_data.shuffle(BUFFER_SIZE)\n",
    "\n",
    "validation_data = shuffled_train_and_validation_data.take(num_validation_samples)\n",
    "train_data = shuffled_train_and_validation_data.skip(num_validation_samples)\n",
    "\n",
    "BATCH_SIZE = 100\n",
    "\n",
    "train_data = train_data.batch(BATCH_SIZE)\n",
    "validation_data = validation_data.batch(num_validation_samples)\n",
    "test_data = scaled_test_data.batch(num_test_samples)\n",
    "\n",
    "validation_inputs, validation_targets = next(iter(validation_data))"
   ]
  },
  {
   "cell_type": "code",
   "execution_count": 109,
   "id": "d76b442c-31d3-470c-8520-1a08ae2ce5ea",
   "metadata": {},
   "outputs": [],
   "source": [
    "input_size = 784\n",
    "output_size = 10\n",
    "hidden_layer_size = 225\n",
    "\n",
    "model = tf.keras.Sequential([\n",
    "    tf.keras.layers.Flatten(input_shape=(28,28,1)),\n",
    "    tf.keras.layers.Dense(hidden_layer_size, activation='relu'),\n",
    "    tf.keras.layers.Dense(hidden_layer_size, activation='tanh'),\n",
    "    tf.keras.layers.Dense(hidden_layer_size, activation='relu'),\n",
    "    tf.keras.layers.Dense(output_size, activation='softmax')\n",
    "])"
   ]
  },
  {
   "cell_type": "code",
   "execution_count": 110,
   "id": "4a3836b0-d14e-4800-ba0d-133539ef010d",
   "metadata": {},
   "outputs": [],
   "source": [
    "#Choosing optimizer and loss funtion\n",
    "\n",
    "#custom_optimizer = tf.keras.optimizers.Adam(learning_rate = 0.0001)\n",
    "model.compile(optimizer='adam', loss='sparse_categorical_crossentropy', metrics=['accuracy'])"
   ]
  },
  {
   "cell_type": "code",
   "execution_count": 111,
   "id": "0372a088-4f9a-4bc6-a06d-4709976ce148",
   "metadata": {},
   "outputs": [
    {
     "name": "stdout",
     "output_type": "stream",
     "text": [
      "Epoch 1/5\n",
      "540/540 - 3s - loss: 0.2447 - accuracy: 0.9263 - val_loss: 0.1159 - val_accuracy: 0.9657\n",
      "Epoch 2/5\n",
      "540/540 - 3s - loss: 0.0945 - accuracy: 0.9712 - val_loss: 0.0779 - val_accuracy: 0.9743\n",
      "Epoch 3/5\n",
      "540/540 - 3s - loss: 0.0656 - accuracy: 0.9785 - val_loss: 0.0697 - val_accuracy: 0.9775\n",
      "Epoch 4/5\n",
      "540/540 - 3s - loss: 0.0479 - accuracy: 0.9849 - val_loss: 0.0541 - val_accuracy: 0.9832\n",
      "Epoch 5/5\n",
      "540/540 - 3s - loss: 0.0422 - accuracy: 0.9864 - val_loss: 0.0382 - val_accuracy: 0.9875\n"
     ]
    },
    {
     "data": {
      "text/plain": [
       "<tensorflow.python.keras.callbacks.History at 0x291ad95c100>"
      ]
     },
     "execution_count": 111,
     "metadata": {},
     "output_type": "execute_result"
    }
   ],
   "source": [
    "#Training\n",
    "\n",
    "NUM_EPOCHS = 5\n",
    "\n",
    "model.fit(train_data, epochs = NUM_EPOCHS, validation_data=(validation_inputs, validation_targets), verbose=2)"
   ]
  },
  {
   "cell_type": "code",
   "execution_count": 112,
   "id": "86667d6f-80f1-4c1a-833a-28291fc321d3",
   "metadata": {},
   "outputs": [
    {
     "name": "stdout",
     "output_type": "stream",
     "text": [
      "1/1 [==============================] - 0s 2ms/step - loss: 0.0799 - accuracy: 0.9780\n"
     ]
    }
   ],
   "source": [
    "#Testing\n",
    "\n",
    "test_loss, test_accuracy = model.evaluate(test_data)"
   ]
  },
  {
   "cell_type": "markdown",
   "id": "c35f1986-74b0-43a9-9e58-bbac433b32f9",
   "metadata": {},
   "source": [
    "Takeaways from training and testing MNIST data:\n",
    "\n",
    "The width of the model seemed to be the most influential on the accuracy. Changing the size of hidden layers showed improvements by whole percentage points.\n",
    "Depth seemed to be more a more negligible point, but picking activation functions did make a noticeable difference. While sigmoid tended to yield worse results, combinations of relu and tanh performed better.\n",
    "Changes in batch size most notably affected the time it took to train. The lower the batch, the higher the time.\n",
    "Apart from an anomaly where a change in learning rate gave a 99% accuracy, testsing showed a change from the default rate did not improve results."
   ]
  }
 ],
 "metadata": {
  "kernelspec": {
   "display_name": "Python 3 (ipykernel)",
   "language": "python",
   "name": "python3"
  },
  "language_info": {
   "codemirror_mode": {
    "name": "ipython",
    "version": 3
   },
   "file_extension": ".py",
   "mimetype": "text/x-python",
   "name": "python",
   "nbconvert_exporter": "python",
   "pygments_lexer": "ipython3",
   "version": "3.8.20"
  }
 },
 "nbformat": 4,
 "nbformat_minor": 5
}
